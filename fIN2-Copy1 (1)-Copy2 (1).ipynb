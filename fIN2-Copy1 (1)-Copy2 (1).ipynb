version https://git-lfs.github.com/spec/v1
oid sha256:5f9ddb65b8428d1054e569f1b5b7619c2670ccdc6294f287de3a8cc9f9d78499
size 130464
