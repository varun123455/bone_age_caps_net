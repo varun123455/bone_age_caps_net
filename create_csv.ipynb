version https://git-lfs.github.com/spec/v1
oid sha256:1d0b951bbd074284c88ab7e3ad4b57026014f15cd1aa70cee107577e7efeb91a
size 578623
