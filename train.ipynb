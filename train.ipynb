version https://git-lfs.github.com/spec/v1
oid sha256:a156d78fb9e3824ed0d5e67d3698b061ee369ecc1970ad0453d8b8ab36d12da0
size 335572
